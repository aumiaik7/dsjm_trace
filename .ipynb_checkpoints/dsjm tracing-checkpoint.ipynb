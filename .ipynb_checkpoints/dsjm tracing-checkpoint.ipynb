{
 "cells": [
  {
   "cell_type": "code",
   "execution_count": 2,
   "metadata": {
    "collapsed": false
   },
   "outputs": [
    {
     "name": "stdout",
     "output_type": "stream",
     "text": [
      "aclocal.m4             dsjm.doxyfile     Makefile.am~    testingAvg.sh~\r\n",
      "\u001b[0m\u001b[01;34mautom4te.cache\u001b[0m/        \u001b[01;34mdsjm_testing\u001b[0m/     Makefile.in     \u001b[01;34mTesting_script\u001b[0m/\r\n",
      "\u001b[01;34mconfig\u001b[0m/                \u001b[01;34mexamples\u001b[0m/         \u001b[01;32mNEWS\u001b[0m*           \u001b[01;32mtesting.sh~\u001b[0m*\r\n",
      "\u001b[01;32mconfig.log\u001b[0m*            \u001b[01;32mgit_commands.sh\u001b[0m*  NEWS~           \u001b[01;32mtestRlfSloRlf.sh\u001b[0m*\r\n",
      "\u001b[01;32mconfig.status\u001b[0m*         \u001b[01;34mGraphs\u001b[0m/           \u001b[01;32mREADME\u001b[0m*         \u001b[01;32mtestRlfSloRlf.sh~\u001b[0m*\r\n",
      "\u001b[01;32mconfig.status.lineno\u001b[0m*  \u001b[01;34mhtml\u001b[0m/             README.md       \u001b[01;32mtestSloRlf.sh\u001b[0m*\r\n",
      "\u001b[01;32mconfigure\u001b[0m*             \u001b[01;32mINSTALL\u001b[0m*          \u001b[01;34msrc\u001b[0m/            \u001b[01;32mtestSloRlf.sh~\u001b[0m*\r\n",
      "\u001b[01;32mconfigure.in\u001b[0m*          \u001b[01;34mlatex\u001b[0m/            tempTest        testTrack\r\n",
      "configure.in~          Makefile          \u001b[01;34mtest\u001b[0m/           trace.tmp\r\n",
      "\u001b[01;31mdsjm-0.2.tar.gz\u001b[0m        \u001b[01;32mMakefile.am\u001b[0m*      \u001b[01;32mtestingAvg.sh\u001b[0m*\r\n"
     ]
    }
   ],
   "source": [
    "ls"
   ]
  },
  {
   "cell_type": "code",
   "execution_count": 3,
   "metadata": {
    "collapsed": false
   },
   "outputs": [
    {
     "name": "stdout",
     "output_type": "stream",
     "text": [
      "Already up-to-date.\n"
     ]
    }
   ],
   "source": [
    "%%bash\n",
    "git pull"
   ]
  },
  {
   "cell_type": "code",
   "execution_count": 4,
   "metadata": {
    "collapsed": false
   },
   "outputs": [
    {
     "name": "stdout",
     "output_type": "stream",
     "text": [
      "[Errno 2] No such file or directory: 'Study/DSJM/DSJM_Tracing/examples'\n",
      "/home/imtiaz/Study/DSJM/DSJM_Tracing\n"
     ]
    }
   ],
   "source": [
    "%cd Study/DSJM/DSJM_Tracing/examples"
   ]
  },
  {
   "cell_type": "code",
   "execution_count": 5,
   "metadata": {
    "collapsed": false
   },
   "outputs": [
    {
     "data": {
      "text/plain": [
       "'/home/imtiaz/Study/DSJM/DSJM_Tracing'"
      ]
     },
     "execution_count": 5,
     "metadata": {},
     "output_type": "execute_result"
    }
   ],
   "source": [
    "pwd"
   ]
  },
  {
   "cell_type": "code",
   "execution_count": 5,
   "metadata": {
    "collapsed": false
   },
   "outputs": [
    {
     "name": "stdout",
     "output_type": "stream",
     "text": [
      "b1_ss.mtx,\n",
      "#Trace ndeg: 3 3 3 3 2 2 2 \n",
      "\n",
      "#Trace order: 0 0 0 0 0 0 0 \n",
      "#Trace Head: 4 \n",
      "#Trace Next: 7 1 2 3 0 5 6 \n",
      "#Trace Prev: 2 3 4 0 6 7 1 \n",
      "\n",
      "#Trace jcol: 4 \n",
      "\n",
      "#Trace order: 0 1 1 1 0 0 1 \n",
      "#Trace Head: 1 7 \n",
      "#Trace Next: 6 0 2 0 0 5 3 \n",
      "#Trace Prev: 0 3 7 0 6 1 0 \n",
      "\n",
      "#Trace jcol: 3 \n",
      "\n",
      "#Trace order: 0 2 2 1 0 1 1 \n",
      "#Trace Head: 1 6 2 \n",
      "#Trace Next: 5 0 0 0 0 7 0 \n",
      "#Trace Prev: 0 0 0 0 1 0 6 \n",
      "\n",
      "#Trace jcol: 2 \n",
      "\n",
      "#Trace order: 0 3 2 1 1 1 1 \n",
      "#Trace Head: 1 5 0 \n",
      "#Trace Next: 0 0 0 0 6 7 0 \n",
      "#Trace Prev: 0 0 0 0 0 5 6 \n",
      "\n",
      "#Trace jcol: 5 \n",
      "\n",
      "#Trace order: 1 3 2 1 4 1 1 \n",
      "#Trace Head: 0 1 \n",
      "#Trace Next: 6 0 0 0 0 7 0 \n",
      "#Trace Prev: 0 0 0 0 0 1 6 \n",
      "\n",
      "#Trace jcol: 1 \n",
      "\n",
      "#Trace order: 5 3 2 1 4 2 2 \n",
      "#Trace Head: 0 0 7 \n",
      "#Trace Next: 0 0 0 0 0 0 6 \n",
      "#Trace Prev: 0 0 0 0 0 7 0 \n",
      "\n",
      "#Trace jcol: 7 \n",
      "\n",
      "#Trace order: 5 3 2 1 4 2 6 \n",
      "#Trace Head: 0 0 6 \n",
      "#Trace Next: 0 0 0 0 0 0 0 \n",
      "#Trace Prev: 0 0 0 0 0 0 0 \n",
      "\n",
      "#Trace order: 4 3 2 5 1 7 6 \n",
      "\n",
      "7,7,15,IDO,0,0,3\n"
     ]
    }
   ],
   "source": [
    "%%bash\n",
    "./gcolor -i b1_ss.mtx -m ido"
   ]
  },
  {
   "cell_type": "code",
   "execution_count": 26,
   "metadata": {
    "collapsed": false
   },
   "outputs": [
    {
     "name": "stdout",
     "output_type": "stream",
     "text": [
      "b1_ss.mtx,\n",
      "#Trace ndeg: 3 3 3 3 2 2 2 \n",
      "#Trace Head: 4 \n",
      "#Trace Next: 7 1 2 3 0 5 6 \n",
      "#Trace Prev: 2 3 4 0 6 7 1 \n",
      "\n",
      "\n",
      "#Trace jcol:              4\n",
      "\n",
      "#Trace color: 7 7 7 1 7 7 7 \n",
      "#Trace ideg: 3 2 2 3 2 2 1 \n",
      "#Trace Head: 1 7 \n",
      "#Trace Next: 6 0 2 0 0 5 3 \n",
      "#Trace Prev: 0 3 7 0 6 1 0 \n",
      "\n",
      "\n",
      "#Trace jcol:              3\n",
      "\n",
      "#Trace color: 7 7 2 1 7 7 7 \n",
      "#Trace ideg: 3 1 2 3 2 1 1 \n",
      "#Trace Head: 1 6 2 \n",
      "#Trace Next: 5 0 0 0 0 7 0 \n",
      "#Trace Prev: 0 0 0 0 1 0 6 \n",
      "\n",
      "\n",
      "#Trace jcol:              2\n",
      "\n",
      "#Trace color: 7 3 2 1 7 7 7 \n",
      "#Trace ideg: 3 1 2 3 1 1 1 \n",
      "#Trace Head: 1 5 0 \n",
      "#Trace Next: 0 0 0 0 6 7 0 \n",
      "#Trace Prev: 0 0 0 0 0 5 6 \n",
      "\n",
      "\n",
      "#Trace jcol:              5\n",
      "\n",
      "#Trace color: 7 3 2 1 1 7 7 \n",
      "#Trace ideg: 2 1 2 3 1 1 1 \n",
      "#Trace Head: 0 1 \n",
      "#Trace Next: 6 0 0 0 0 7 0 \n",
      "#Trace Prev: 0 0 0 0 0 1 6 \n",
      "\n",
      "\n",
      "#Trace jcol:              1\n",
      "\n",
      "#Trace color: 2 3 2 1 1 7 7 \n",
      "#Trace ideg: 2 1 2 3 1 0 0 \n",
      "#Trace Head: 0 6 7 \n",
      "#Trace Next: 0 0 0 0 0 0 0 \n",
      "#Trace Prev: 0 0 0 0 0 0 0 \n",
      "\n",
      "\n",
      "#Trace jcol:              7\n",
      "\n",
      "#Trace color: 2 3 2 1 1 7 3 \n",
      "#Trace ideg: 2 1 2 3 1 0 0 \n",
      "#Trace Head: 0 6 0 \n",
      "#Trace Next: 0 0 0 0 0 0 0 \n",
      "#Trace Prev: 0 0 0 0 0 0 0 \n",
      "\n",
      "\n",
      "#Trace jcol:              6\n",
      "\n",
      "#Trace color: 2 3 2 1 1 1 3 \n",
      "7,7,15,SDO,0,0,3\n"
     ]
    }
   ],
   "source": [
    "%%bash\n",
    "./gcolor -i b1_ss.mtx -m sdo"
   ]
  },
  {
   "cell_type": "code",
   "execution_count": 16,
   "metadata": {
    "collapsed": false
   },
   "outputs": [
    {
     "name": "stdout",
     "output_type": "stream",
     "text": [
      "g++ -DPACKAGE_NAME=\\\"\\\" -DPACKAGE_TARNAME=\\\"\\\" -DPACKAGE_VERSION=\\\"\\\" -DPACKAGE_STRING=\\\"\\\" -DPACKAGE_BUGREPORT=\\\"\\\" -DPACKAGE=\\\"dsjm\\\" -DVERSION=\\\"0.2\\\" -I. -I../src    -g -O2 -MT ForwardDifference-Matrix.o -MD -MP -MF .deps/ForwardDifference-Matrix.Tpo -c -o ForwardDifference-Matrix.o `test -f '../src/Matrix.cpp' || echo './'`../src/Matrix.cpp\n",
      "mv -f .deps/ForwardDifference-Matrix.Tpo .deps/ForwardDifference-Matrix.Po\n",
      "g++  -g -O2   -o ForwardDifference ForwardDifference-ForwardDifference.o ForwardDifference-StructuredJacobian.o ForwardDifference-mmio.o ForwardDifference-Matrix.o ForwardDifference-CLI.o ForwardDifference-Utility.o ForwardDifference-Timer.o ForwardDifference-IMatrix.o ForwardDifference-Configuration.o ForwardDifference-IRowColumnDS.o  \n",
      "g++ -DPACKAGE_NAME=\\\"\\\" -DPACKAGE_TARNAME=\\\"\\\" -DPACKAGE_VERSION=\\\"\\\" -DPACKAGE_STRING=\\\"\\\" -DPACKAGE_BUGREPORT=\\\"\\\" -DPACKAGE=\\\"dsjm\\\" -DVERSION=\\\"0.2\\\" -I. -I../src    -g -O2 -MT gcolor-Matrix.o -MD -MP -MF .deps/gcolor-Matrix.Tpo -c -o gcolor-Matrix.o `test -f '../src/Matrix.cpp' || echo './'`../src/Matrix.cpp\n",
      "mv -f .deps/gcolor-Matrix.Tpo .deps/gcolor-Matrix.Po\n",
      "g++  -g -O2   -o gcolor gcolor-gcolor.o gcolor-driver.o gcolor-mmio.o gcolor-Matrix.o gcolor-CLI.o gcolor-Utility.o gcolor-Timer.o gcolor-IMatrix.o gcolor-Configuration.o gcolor-IRowColumnDS.o  \n"
     ]
    }
   ],
   "source": [
    "%%bash \n",
    "make"
   ]
  },
  {
   "cell_type": "code",
   "execution_count": 17,
   "metadata": {
    "collapsed": false
   },
   "outputs": [
    {
     "name": "stdout",
     "output_type": "stream",
     "text": [
      "b1_ss.mtx,\n",
      "#Trace ndeg: 3 3 3 3 2 2 2 \n",
      "#Trace priority_queue\n",
      "#Trace Head: -1 -1 7 4 \n",
      "#Trace Next: -1 1 2 3 -1 5 6 \n",
      "#Trace Prev: 2 3 4 -1 6 7 -1 \n",
      "\n",
      "#Trace u_queue\n",
      "#Trace Head: 7 -1 -1 -1 \n",
      "#Trace Next: -1 1 2 3 4 5 6 \n",
      "#Trace Prev: 2 3 4 5 6 7 -1 \n",
      "\n",
      "#Trace new color\n",
      "#Trace Selected jcol:--------------------4\n",
      "\n",
      "#Trace color: 0 7 7 1 7 7 7 \n",
      "#Trace priority_queue\n",
      "#Trace Head: -1 7 3 1 \n",
      "#Trace Next: -1 6 2 -1 -1 5 -1 \n",
      "#Trace Prev: -1 3 -1 -1 6 2 -1 \n",
      "\n",
      "#Trace u_queue\n",
      "\n",
      "#Trace Head: -1 1 -1 -1 \n",
      "#Trace Next: 6 -1 -1 -1 -1 5 -1 \n",
      "#Trace Prev: -1 -1 -1 -1 6 1 -1 \n",
      "\n",
      "#Trace Selected jcol:--------------------1\n",
      "\n",
      "#Trace color: 1 7 7 1 7 7 7 \n",
      "#Trace priority_queue\n",
      "#Trace Head: 7 6 3 -1 \n",
      "#Trace Next: -1 -1 2 -1 -1 5 -1 \n",
      "#Trace Prev: -1 3 -1 -1 6 -1 -1 \n",
      "\n",
      "#Trace u_queue\n",
      "\n",
      "#Trace Head: -1 -1 -1 -1 \n",
      "#Trace Next: -1 -1 -1 -1 -1 -1 -1 \n",
      "#Trace Prev: -1 -1 -1 -1 -1 -1 -1 \n",
      "\n",
      "#Trace NEW u_queue\n",
      "\n",
      "#Trace Head: 7 -1 -1 -1 \n",
      "#Trace Next: -1 -1 2 -1 3 5 6 \n",
      "#Trace Prev: -1 3 5 -1 6 7 -1 \n",
      "\n",
      "#Trace new color\n",
      "#Trace Selected jcol:--------------------3\n",
      "\n",
      "#Trace color: 1 7 2 1 7 7 7 \n",
      "#Trace priority_queue\n",
      "#Trace Head: 6 2 -1 -1 \n",
      "#Trace Next: -1 5 -1 -1 -1 7 -1 \n",
      "#Trace Prev: -1 -1 -1 -1 2 -1 6 \n",
      "\n",
      "#Trace u_queue\n",
      "\n",
      "#Trace Head: 7 5 -1 -1 \n",
      "#Trace Next: -1 -1 -1 -1 -1 -1 -1 \n",
      "#Trace Prev: -1 -1 -1 -1 -1 -1 -1 \n",
      "\n",
      "#Trace Selected jcol:--------------------5\n",
      "\n",
      "#Trace color: 1 7 2 1 2 7 7 \n",
      "#Trace priority_queue\n",
      "#Trace Head: 2 -1 -1 -1 \n",
      "#Trace Next: -1 6 -1 -1 -1 7 -1 \n",
      "#Trace Prev: -1 -1 -1 -1 -1 2 6 \n",
      "\n",
      "#Trace u_queue\n",
      "\n",
      "#Trace Head: 7 -1 -1 -1 \n",
      "#Trace Next: -1 -1 -1 -1 -1 -1 -1 \n",
      "#Trace Prev: -1 -1 -1 -1 -1 -1 -1 \n",
      "\n",
      "#Trace Selected jcol:--------------------7\n",
      "\n",
      "#Trace color: 1 7 2 1 2 7 2 \n",
      "#Trace priority_queue\n",
      "#Trace Head: 2 -1 -1 -1 \n",
      "#Trace Next: -1 6 -1 -1 -1 -1 -1 \n",
      "#Trace Prev: -1 -1 -1 -1 -1 2 -1 \n",
      "\n",
      "#Trace u_queue\n",
      "\n",
      "#Trace Head: -1 -1 -1 -1 \n",
      "#Trace Next: -1 -1 -1 -1 -1 -1 -1 \n",
      "#Trace Prev: -1 -1 -1 -1 -1 -1 -1 \n",
      "\n",
      "#Trace NEW u_queue\n",
      "\n",
      "#Trace Head: 6 -1 -1 -1 \n",
      "#Trace Next: -1 -1 -1 -1 -1 2 -1 \n",
      "#Trace Prev: -1 6 -1 -1 -1 -1 -1 \n",
      "\n",
      "#Trace new color\n",
      "#Trace Selected jcol:--------------------2\n",
      "\n",
      "#Trace color: 1 3 2 1 2 7 2 \n",
      "#Trace priority_queue\n",
      "#Trace Head: 6 -1 -1 -1 \n",
      "#Trace Next: -1 -1 -1 -1 -1 -1 -1 \n",
      "#Trace Prev: -1 -1 -1 -1 -1 -1 -1 \n",
      "\n",
      "#Trace u_queue\n",
      "\n",
      "#Trace Head: 6 -1 -1 -1 \n",
      "#Trace Next: -1 -1 -1 -1 -1 -1 -1 \n",
      "#Trace Prev: -1 -1 -1 -1 -1 -1 -1 \n",
      "\n",
      "#Trace Selected jcol:--------------------6\n",
      "\n",
      "#Trace color: 1 3 2 1 2 3 2 \n",
      "7,7,15,RLF,0,0,3\n"
     ]
    }
   ],
   "source": [
    "%%bash\n",
    "./gcolor -i b1_ss.mtx -m rlf"
   ]
  },
  {
   "cell_type": "code",
   "execution_count": 18,
   "metadata": {
    "collapsed": false
   },
   "outputs": [
    {
     "name": "stdout",
     "output_type": "stream",
     "text": [
      "/home/imtiaz/Study/DSJM/DSJM_Tracing\n"
     ]
    }
   ],
   "source": [
    "cd .."
   ]
  },
  {
   "cell_type": "code",
   "execution_count": 19,
   "metadata": {
    "collapsed": false
   },
   "outputs": [
    {
     "name": "stdout",
     "output_type": "stream",
     "text": [
      "[master ace8a07] All tracing done. Maybe ..\n",
      " 47 files changed, 8868 insertions(+), 8481 deletions(-)\n",
      " rewrite examples/.deps/ForwardDifference-CLI.Po (94%)\n",
      " rewrite examples/.deps/ForwardDifference-Configuration.Po (94%)\n",
      " rewrite examples/.deps/ForwardDifference-ForwardDifference.Po (82%)\n",
      " rewrite examples/.deps/ForwardDifference-IMatrix.Po (96%)\n",
      " rewrite examples/.deps/ForwardDifference-IRowColumnDS.Po (96%)\n",
      " rewrite examples/.deps/ForwardDifference-Matrix.Po (81%)\n",
      " rewrite examples/.deps/ForwardDifference-StructuredJacobian.Po (82%)\n",
      " rewrite examples/.deps/ForwardDifference-Timer.Po (96%)\n",
      " rewrite examples/.deps/ForwardDifference-Utility.Po (82%)\n",
      " rewrite examples/.deps/ForwardDifference-mmio.Po (84%)\n",
      " rewrite examples/.deps/dsjmverify.Po (95%)\n",
      " rewrite examples/.deps/gcolor-CLI.Po (94%)\n",
      " rewrite examples/.deps/gcolor-Configuration.Po (95%)\n",
      " rewrite examples/.deps/gcolor-IMatrix.Po (96%)\n",
      " rewrite examples/.deps/gcolor-IRowColumnDS.Po (96%)\n",
      " rewrite examples/.deps/gcolor-Matrix.Po (81%)\n",
      " rewrite examples/.deps/gcolor-Timer.Po (96%)\n",
      " rewrite examples/.deps/gcolor-Utility.Po (82%)\n",
      " rewrite examples/.deps/gcolor-driver.Po (81%)\n",
      " rewrite examples/.deps/gcolor-gcolor.Po (81%)\n",
      " rewrite examples/.deps/gcolor-mmio.Po (84%)\n",
      " rewrite examples/ForwardDifference (90%)\n",
      " rewrite examples/ForwardDifference-CLI.o (98%)\n",
      " rewrite examples/ForwardDifference-Configuration.o (97%)\n",
      " rewrite examples/ForwardDifference-ForwardDifference.o (94%)\n",
      " rewrite examples/ForwardDifference-IMatrix.o (99%)\n",
      " rewrite examples/ForwardDifference-IRowColumnDS.o (98%)\n",
      " rewrite examples/ForwardDifference-Matrix.o (87%)\n",
      " rewrite examples/ForwardDifference-StructuredJacobian.o (95%)\n",
      " rewrite examples/ForwardDifference-Timer.o (99%)\n",
      " rewrite examples/ForwardDifference-Utility.o (98%)\n",
      " rewrite examples/ForwardDifference-mmio.o (96%)\n",
      " rewrite examples/dsjmverify (99%)\n",
      " rewrite examples/dsjmverify.o (99%)\n",
      " rewrite examples/gcolor (90%)\n",
      " rewrite examples/gcolor-CLI.o (98%)\n",
      " rewrite examples/gcolor-Configuration.o (97%)\n",
      " rewrite examples/gcolor-IMatrix.o (99%)\n",
      " rewrite examples/gcolor-IRowColumnDS.o (98%)\n",
      " rewrite examples/gcolor-Matrix.o (87%)\n",
      " rewrite examples/gcolor-Timer.o (99%)\n",
      " rewrite examples/gcolor-Utility.o (98%)\n",
      " rewrite examples/gcolor-driver.o (94%)\n",
      " rewrite examples/gcolor-gcolor.o (97%)\n",
      " rewrite examples/gcolor-mmio.o (96%)\n",
      " mode change 100644 => 100755 src/Matrix.cpp~\n"
     ]
    },
    {
     "name": "stderr",
     "output_type": "stream",
     "text": [
      "To git@github.com:aumiaik7/dsjm_trace.git\n",
      "   754698b..ace8a07  master -> master\n"
     ]
    }
   ],
   "source": [
    "%%bash\n",
    "./git_commands.sh \"All tracing done. Maybe ..\""
   ]
  },
  {
   "cell_type": "code",
   "execution_count": null,
   "metadata": {
    "collapsed": true
   },
   "outputs": [],
   "source": []
  }
 ],
 "metadata": {
  "kernelspec": {
   "display_name": "Python 3",
   "language": "python",
   "name": "python3"
  },
  "language_info": {
   "codemirror_mode": {
    "name": "ipython",
    "version": 3
   },
   "file_extension": ".py",
   "mimetype": "text/x-python",
   "name": "python",
   "nbconvert_exporter": "python",
   "pygments_lexer": "ipython3",
   "version": "3.6.0"
  }
 },
 "nbformat": 4,
 "nbformat_minor": 2
}
